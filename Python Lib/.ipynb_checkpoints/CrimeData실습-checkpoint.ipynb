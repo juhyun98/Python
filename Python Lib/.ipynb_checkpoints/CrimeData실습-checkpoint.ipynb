{
 "cells": [
  {
   "cell_type": "code",
   "execution_count": 3,
   "id": "2fc7df09",
   "metadata": {},
   "outputs": [],
   "source": [
    "import pandas as pd"
   ]
  },
  {
   "cell_type": "code",
   "execution_count": 11,
   "id": "7b7fbece",
   "metadata": {},
   "outputs": [],
   "source": [
    "c15 = pd.read_csv('2015.csv' , encoding='euc-kr', index_col='관서명')\n",
    "c16 = pd.read_csv('2016.csv' , encoding='euc-kr', index_col='관서명')\n",
    "c17 = pd.read_csv('2017.csv' , encoding='euc-kr', index_col='관서명')"
   ]
  },
  {
   "cell_type": "code",
   "execution_count": 28,
   "id": "d8fac264",
   "metadata": {},
   "outputs": [
    {
     "data": {
      "text/html": [
       "<div>\n",
       "<style scoped>\n",
       "    .dataframe tbody tr th:only-of-type {\n",
       "        vertical-align: middle;\n",
       "    }\n",
       "\n",
       "    .dataframe tbody tr th {\n",
       "        vertical-align: top;\n",
       "    }\n",
       "\n",
       "    .dataframe thead th {\n",
       "        text-align: right;\n",
       "    }\n",
       "</style>\n",
       "<table border=\"1\" class=\"dataframe\">\n",
       "  <thead>\n",
       "    <tr style=\"text-align: right;\">\n",
       "      <th></th>\n",
       "      <th>구분</th>\n",
       "      <th>살인</th>\n",
       "      <th>강도</th>\n",
       "      <th>강간·강제추행</th>\n",
       "      <th>절도</th>\n",
       "      <th>폭력</th>\n",
       "    </tr>\n",
       "    <tr>\n",
       "      <th>관서명</th>\n",
       "      <th></th>\n",
       "      <th></th>\n",
       "      <th></th>\n",
       "      <th></th>\n",
       "      <th></th>\n",
       "      <th></th>\n",
       "    </tr>\n",
       "  </thead>\n",
       "  <tbody>\n",
       "    <tr>\n",
       "      <th>광주지방경찰청계</th>\n",
       "      <td>발생건수</td>\n",
       "      <td>18</td>\n",
       "      <td>44</td>\n",
       "      <td>750</td>\n",
       "      <td>8425</td>\n",
       "      <td>9593</td>\n",
       "    </tr>\n",
       "    <tr>\n",
       "      <th>광주지방경찰청계</th>\n",
       "      <td>검거건수</td>\n",
       "      <td>18</td>\n",
       "      <td>47</td>\n",
       "      <td>758</td>\n",
       "      <td>5409</td>\n",
       "      <td>8301</td>\n",
       "    </tr>\n",
       "  </tbody>\n",
       "</table>\n",
       "</div>"
      ],
      "text/plain": [
       "            구분  살인  강도  강간·강제추행    절도    폭력\n",
       "관서명                                        \n",
       "광주지방경찰청계  발생건수  18  44      750  8425  9593\n",
       "광주지방경찰청계  검거건수  18  47      758  5409  8301"
      ]
     },
     "execution_count": 28,
     "metadata": {},
     "output_type": "execute_result"
    }
   ],
   "source": [
    "c15.head(2)"
   ]
  },
  {
   "cell_type": "code",
   "execution_count": 21,
   "id": "43c2ee11",
   "metadata": {},
   "outputs": [
    {
     "data": {
      "text/plain": [
       "관서명\n",
       "광주지방경찰청계    18830\n",
       "광주동부경찰서      2355\n",
       "광주서부경찰서      4720\n",
       "광주남부경찰서      2117\n",
       "광주북부경찰서      5466\n",
       "광주광산경찰서      4172\n",
       "dtype: int64"
      ]
     },
     "execution_count": 21,
     "metadata": {},
     "output_type": "execute_result"
    }
   ],
   "source": [
    "total15 = c15.loc[c15['구분'] == '발생건수', '살인' :].sum(axis=1)\n",
    "total15"
   ]
  },
  {
   "cell_type": "code",
   "execution_count": 22,
   "id": "5776c79f",
   "metadata": {},
   "outputs": [
    {
     "data": {
      "text/plain": [
       "관서명\n",
       "광주지방경찰청계    15416\n",
       "광주동부경찰서      2068\n",
       "광주서부경찰서      3892\n",
       "광주남부경찰서      1865\n",
       "광주북부경찰서      4148\n",
       "광주광산경찰서      3443\n",
       "dtype: int64"
      ]
     },
     "execution_count": 22,
     "metadata": {},
     "output_type": "execute_result"
    }
   ],
   "source": [
    "total16 = c16.loc[c16['구분'] == '발생건수', '살인' :].sum(axis=1)\n",
    "total16"
   ]
  },
  {
   "cell_type": "code",
   "execution_count": 26,
   "id": "bd78892f",
   "metadata": {},
   "outputs": [
    {
     "data": {
      "text/plain": [
       "관서명\n",
       "광주지방경찰청계    13949\n",
       "광주동부경찰서      1799\n",
       "광주서부경찰서      3638\n",
       "광주남부경찰서      1547\n",
       "광주북부경찰서      3945\n",
       "광주광산경찰서      3020\n",
       "dtype: int64"
      ]
     },
     "execution_count": 26,
     "metadata": {},
     "output_type": "execute_result"
    }
   ],
   "source": [
    "total17 = c17.loc[c17['구분'] == '발생건수', '살인' :].sum(axis=1)\n",
    "total17.drop('광주지방경찰청', inplace=True)\n",
    "total17"
   ]
  },
  {
   "attachments": {
    "image.png": {
     "image/png": "[encoded data removed]"
    }
   },
   "cell_type": "markdown",
   "id": "3591b118",
   "metadata": {},
   "source": [
    "![image.png](attachment:image.png)"
   ]
  },
  {
   "cell_type": "code",
   "execution_count": 81,
   "id": "415d98e1",
   "metadata": {},
   "outputs": [
    {
     "name": "stdout",
     "output_type": "stream",
     "text": [
      "관서명\n",
      "광주지방경찰청계   -18.130643\n",
      "광주동부경찰서    -12.186837\n",
      "광주서부경찰서    -17.542373\n",
      "광주남부경찰서    -11.903637\n",
      "광주북부경찰서    -24.112697\n",
      "광주광산경찰서    -17.473634\n",
      "Name: 2015-2016증감율, dtype: float64\n",
      "관서명\n",
      "광주지방경찰청계    -9.516087\n",
      "광주동부경찰서    -13.007737\n",
      "광주서부경찰서     -6.526208\n",
      "광주남부경찰서    -17.050938\n",
      "광주북부경찰서     -4.893925\n",
      "광주광산경찰서    -12.285797\n",
      "Name: 2016-2017증감율, dtype: float64\n"
     ]
    }
   ],
   "source": [
    "# 증감율\n",
    "# 2015~2016\n",
    "s5 = (total16-total15) / total15 * 100\n",
    "# 2016~2017\n",
    "s6 = (total17-total16) / total16 * 100\n",
    "s5.name = '2015-2016증감율'\n",
    "s6.name = '2016-2017증감율'\n",
    "print(s5)\n",
    "print(s6)"
   ]
  },
  {
   "cell_type": "code",
   "execution_count": 110,
   "id": "498018fd",
   "metadata": {},
   "outputs": [
    {
     "data": {
      "text/html": [
       "<div>\n",
       "<style scoped>\n",
       "    .dataframe tbody tr th:only-of-type {\n",
       "        vertical-align: middle;\n",
       "    }\n",
       "\n",
       "    .dataframe tbody tr th {\n",
       "        vertical-align: top;\n",
       "    }\n",
       "\n",
       "    .dataframe thead th {\n",
       "        text-align: right;\n",
       "    }\n",
       "</style>\n",
       "<table border=\"1\" class=\"dataframe\">\n",
       "  <thead>\n",
       "    <tr style=\"text-align: right;\">\n",
       "      <th></th>\n",
       "      <th>2015총계</th>\n",
       "      <th>2015-2016증감율</th>\n",
       "      <th>2016총계</th>\n",
       "      <th>2016-2017증감율</th>\n",
       "      <th>2017총계</th>\n",
       "    </tr>\n",
       "    <tr>\n",
       "      <th>관서명</th>\n",
       "      <th></th>\n",
       "      <th></th>\n",
       "      <th></th>\n",
       "      <th></th>\n",
       "      <th></th>\n",
       "    </tr>\n",
       "  </thead>\n",
       "  <tbody>\n",
       "    <tr>\n",
       "      <th>광주지방경찰청계</th>\n",
       "      <td>18830</td>\n",
       "      <td>-18.130643</td>\n",
       "      <td>15416</td>\n",
       "      <td>-9.516087</td>\n",
       "      <td>13949</td>\n",
       "    </tr>\n",
       "    <tr>\n",
       "      <th>광주동부경찰서</th>\n",
       "      <td>2355</td>\n",
       "      <td>-12.186837</td>\n",
       "      <td>2068</td>\n",
       "      <td>-13.007737</td>\n",
       "      <td>1799</td>\n",
       "    </tr>\n",
       "    <tr>\n",
       "      <th>광주서부경찰서</th>\n",
       "      <td>4720</td>\n",
       "      <td>-17.542373</td>\n",
       "      <td>3892</td>\n",
       "      <td>-6.526208</td>\n",
       "      <td>3638</td>\n",
       "    </tr>\n",
       "    <tr>\n",
       "      <th>광주남부경찰서</th>\n",
       "      <td>2117</td>\n",
       "      <td>-11.903637</td>\n",
       "      <td>1865</td>\n",
       "      <td>-17.050938</td>\n",
       "      <td>1547</td>\n",
       "    </tr>\n",
       "    <tr>\n",
       "      <th>광주북부경찰서</th>\n",
       "      <td>5466</td>\n",
       "      <td>-24.112697</td>\n",
       "      <td>4148</td>\n",
       "      <td>-4.893925</td>\n",
       "      <td>3945</td>\n",
       "    </tr>\n",
       "    <tr>\n",
       "      <th>광주광산경찰서</th>\n",
       "      <td>4172</td>\n",
       "      <td>-17.473634</td>\n",
       "      <td>3443</td>\n",
       "      <td>-12.285797</td>\n",
       "      <td>3020</td>\n",
       "    </tr>\n",
       "  </tbody>\n",
       "</table>\n",
       "</div>"
      ],
      "text/plain": [
       "          2015총계  2015-2016증감율  2016총계  2016-2017증감율  2017총계\n",
       "관서명                                                         \n",
       "광주지방경찰청계   18830    -18.130643   15416     -9.516087   13949\n",
       "광주동부경찰서     2355    -12.186837    2068    -13.007737    1799\n",
       "광주서부경찰서     4720    -17.542373    3892     -6.526208    3638\n",
       "광주남부경찰서     2117    -11.903637    1865    -17.050938    1547\n",
       "광주북부경찰서     5466    -24.112697    4148     -4.893925    3945\n",
       "광주광산경찰서     4172    -17.473634    3443    -12.285797    3020"
      ]
     },
     "execution_count": 110,
     "metadata": {},
     "output_type": "execute_result"
    }
   ],
   "source": [
    "total15.name = '2015총계'\n",
    "total16.name = '2016총계'\n",
    "total17.name = '2017총계'\n",
    "\n",
    "resultDf1 = pd.concat([total15, s5, total16, s6, total17], axis=1)\n",
    "resultDf1"
   ]
  },
  {
   "cell_type": "code",
   "execution_count": 87,
   "id": "70d72288",
   "metadata": {},
   "outputs": [],
   "source": [
    "# 1. 컬럼명 수정\n",
    "resultDf1.columns = ['2015총계', '2015-2016증감율', '2016총계', '2016-2017증감율', '2017총계']"
   ]
  },
  {
   "cell_type": "code",
   "execution_count": 93,
   "id": "eefc1db7",
   "metadata": {},
   "outputs": [],
   "source": [
    "# 2. 컬럼명 수정 (rename)\n",
    "resultDf1.rename( columns={0:'2015총계', 1:'2016총계', 3:'2017총계'} , inplace=True)"
   ]
  },
  {
   "cell_type": "code",
   "execution_count": 59,
   "id": "739188b8",
   "metadata": {},
   "outputs": [],
   "source": [
    "from tabulate import tabulate"
   ]
  },
  {
   "cell_type": "code",
   "execution_count": 88,
   "id": "2e7cb364",
   "metadata": {},
   "outputs": [
    {
     "name": "stdout",
     "output_type": "stream",
     "text": [
      "+------------------+------------+-------------------+------------+-------------------+------------+\n",
      "|      관서명      |  2015총계  |  2015-2016증감율  |  2016총계  |  2016-2017증감율  |  2017총계  |\n",
      "|------------------+------------+-------------------+------------+-------------------+------------|\n",
      "| 광주지방경찰청계 |   18830    |     -18.1306      |   15416    |     -9.51609      |   13949    |\n",
      "|  광주동부경찰서  |    2355    |     -12.1868      |    2068    |     -13.0077      |    1799    |\n",
      "|  광주서부경찰서  |    4720    |     -17.5424      |    3892    |     -6.52621      |    3638    |\n",
      "|  광주남부경찰서  |    2117    |     -11.9036      |    1865    |     -17.0509      |    1547    |\n",
      "|  광주북부경찰서  |    5466    |     -24.1127      |    4148    |     -4.89392      |    3945    |\n",
      "|  광주광산경찰서  |    4172    |     -17.4736      |    3443    |     -12.2858      |    3020    |\n",
      "+------------------+------------+-------------------+------------+-------------------+------------+\n"
     ]
    }
   ],
   "source": [
    "print(tabulate(resultDf1, headers='keys', tablefmt='psql', showindex=True, stralign='center', numalign='center'))"
   ]
  },
  {
   "cell_type": "code",
   "execution_count": null,
   "id": "23808640",
   "metadata": {},
   "outputs": [],
   "source": []
  },
  {
   "cell_type": "code",
   "execution_count": 66,
   "id": "d3f66d21",
   "metadata": {},
   "outputs": [],
   "source": [
    "import numpy as np"
   ]
  },
  {
   "cell_type": "code",
   "execution_count": 73,
   "id": "6763cd7c",
   "metadata": {},
   "outputs": [
    {
     "data": {
      "text/plain": [
       "[{'selector': 'thead th',\n",
       "  'props': [('font-size', '150%'), ('text-align', 'center')]}]"
      ]
     },
     "execution_count": 73,
     "metadata": {},
     "output_type": "execute_result"
    }
   ],
   "source": [
    "styles = [dict(selector = \"thead th\", \n",
    "               props = [(\"font-size\", \"150%\"), (\"text-align\", \"center\")])]\n",
    "styles"
   ]
  },
  {
   "cell_type": "code",
   "execution_count": 84,
   "id": "bab1569c",
   "metadata": {},
   "outputs": [
    {
     "data": {
      "text/html": [
       "<style type=\"text/css\">\n",
       "#T_febcf thead th {\n",
       "  font-size: 150%;\n",
       "  text-align: center;\n",
       "}\n",
       "</style>\n",
       "<table id=\"T_febcf\">\n",
       "  <thead>\n",
       "    <tr>\n",
       "      <th class=\"blank level0\" >&nbsp;</th>\n",
       "      <th id=\"T_febcf_level0_col0\" class=\"col_heading level0 col0\" >2015총계</th>\n",
       "      <th id=\"T_febcf_level0_col1\" class=\"col_heading level0 col1\" >2015-2016증감율</th>\n",
       "      <th id=\"T_febcf_level0_col2\" class=\"col_heading level0 col2\" >2016총계</th>\n",
       "      <th id=\"T_febcf_level0_col3\" class=\"col_heading level0 col3\" >2016-2017증감율</th>\n",
       "      <th id=\"T_febcf_level0_col4\" class=\"col_heading level0 col4\" >2017총계</th>\n",
       "    </tr>\n",
       "    <tr>\n",
       "      <th class=\"index_name level0\" >관서명</th>\n",
       "      <th class=\"blank col0\" >&nbsp;</th>\n",
       "      <th class=\"blank col1\" >&nbsp;</th>\n",
       "      <th class=\"blank col2\" >&nbsp;</th>\n",
       "      <th class=\"blank col3\" >&nbsp;</th>\n",
       "      <th class=\"blank col4\" >&nbsp;</th>\n",
       "    </tr>\n",
       "  </thead>\n",
       "  <tbody>\n",
       "    <tr>\n",
       "      <th id=\"T_febcf_level0_row0\" class=\"row_heading level0 row0\" >광주지방경찰청계</th>\n",
       "      <td id=\"T_febcf_row0_col0\" class=\"data row0 col0\" >18830</td>\n",
       "      <td id=\"T_febcf_row0_col1\" class=\"data row0 col1\" >-18.130643</td>\n",
       "      <td id=\"T_febcf_row0_col2\" class=\"data row0 col2\" >15416</td>\n",
       "      <td id=\"T_febcf_row0_col3\" class=\"data row0 col3\" >-9.516087</td>\n",
       "      <td id=\"T_febcf_row0_col4\" class=\"data row0 col4\" >13949</td>\n",
       "    </tr>\n",
       "    <tr>\n",
       "      <th id=\"T_febcf_level0_row1\" class=\"row_heading level0 row1\" >광주동부경찰서</th>\n",
       "      <td id=\"T_febcf_row1_col0\" class=\"data row1 col0\" >2355</td>\n",
       "      <td id=\"T_febcf_row1_col1\" class=\"data row1 col1\" >-12.186837</td>\n",
       "      <td id=\"T_febcf_row1_col2\" class=\"data row1 col2\" >2068</td>\n",
       "      <td id=\"T_febcf_row1_col3\" class=\"data row1 col3\" >-13.007737</td>\n",
       "      <td id=\"T_febcf_row1_col4\" class=\"data row1 col4\" >1799</td>\n",
       "    </tr>\n",
       "    <tr>\n",
       "      <th id=\"T_febcf_level0_row2\" class=\"row_heading level0 row2\" >광주서부경찰서</th>\n",
       "      <td id=\"T_febcf_row2_col0\" class=\"data row2 col0\" >4720</td>\n",
       "      <td id=\"T_febcf_row2_col1\" class=\"data row2 col1\" >-17.542373</td>\n",
       "      <td id=\"T_febcf_row2_col2\" class=\"data row2 col2\" >3892</td>\n",
       "      <td id=\"T_febcf_row2_col3\" class=\"data row2 col3\" >-6.526208</td>\n",
       "      <td id=\"T_febcf_row2_col4\" class=\"data row2 col4\" >3638</td>\n",
       "    </tr>\n",
       "    <tr>\n",
       "      <th id=\"T_febcf_level0_row3\" class=\"row_heading level0 row3\" >광주남부경찰서</th>\n",
       "      <td id=\"T_febcf_row3_col0\" class=\"data row3 col0\" >2117</td>\n",
       "      <td id=\"T_febcf_row3_col1\" class=\"data row3 col1\" >-11.903637</td>\n",
       "      <td id=\"T_febcf_row3_col2\" class=\"data row3 col2\" >1865</td>\n",
       "      <td id=\"T_febcf_row3_col3\" class=\"data row3 col3\" >-17.050938</td>\n",
       "      <td id=\"T_febcf_row3_col4\" class=\"data row3 col4\" >1547</td>\n",
       "    </tr>\n",
       "    <tr>\n",
       "      <th id=\"T_febcf_level0_row4\" class=\"row_heading level0 row4\" >광주북부경찰서</th>\n",
       "      <td id=\"T_febcf_row4_col0\" class=\"data row4 col0\" >5466</td>\n",
       "      <td id=\"T_febcf_row4_col1\" class=\"data row4 col1\" >-24.112697</td>\n",
       "      <td id=\"T_febcf_row4_col2\" class=\"data row4 col2\" >4148</td>\n",
       "      <td id=\"T_febcf_row4_col3\" class=\"data row4 col3\" >-4.893925</td>\n",
       "      <td id=\"T_febcf_row4_col4\" class=\"data row4 col4\" >3945</td>\n",
       "    </tr>\n",
       "    <tr>\n",
       "      <th id=\"T_febcf_level0_row5\" class=\"row_heading level0 row5\" >광주광산경찰서</th>\n",
       "      <td id=\"T_febcf_row5_col0\" class=\"data row5 col0\" >4172</td>\n",
       "      <td id=\"T_febcf_row5_col1\" class=\"data row5 col1\" >-17.473634</td>\n",
       "      <td id=\"T_febcf_row5_col2\" class=\"data row5 col2\" >3443</td>\n",
       "      <td id=\"T_febcf_row5_col3\" class=\"data row5 col3\" >-12.285797</td>\n",
       "      <td id=\"T_febcf_row5_col4\" class=\"data row5 col4\" >3020</td>\n",
       "    </tr>\n",
       "  </tbody>\n",
       "</table>\n"
      ],
      "text/plain": [
       "<pandas.io.formats.style.Styler at 0x1f1f099f130>"
      ]
     },
     "execution_count": 84,
     "metadata": {},
     "output_type": "execute_result"
    }
   ],
   "source": [
    "resultDf1.style.set_table_styles(styles)"
   ]
  },
  {
   "cell_type": "code",
   "execution_count": null,
   "id": "89675029",
   "metadata": {},
   "outputs": [],
   "source": []
  },
  {
   "cell_type": "code",
   "execution_count": 85,
   "id": "8ab2d4b7",
   "metadata": {},
   "outputs": [
    {
     "data": {
      "text/html": [
       "<style type=\"text/css\">\n",
       "#T_03818 th {\n",
       "  text-align: right;\n",
       "}\n",
       "#T_03818_row0_col0, #T_03818_row0_col1, #T_03818_row0_col2, #T_03818_row0_col3, #T_03818_row0_col4, #T_03818_row1_col0, #T_03818_row1_col1, #T_03818_row1_col2, #T_03818_row1_col3, #T_03818_row1_col4, #T_03818_row2_col0, #T_03818_row2_col1, #T_03818_row2_col2, #T_03818_row2_col3, #T_03818_row2_col4, #T_03818_row3_col0, #T_03818_row3_col1, #T_03818_row3_col2, #T_03818_row3_col3, #T_03818_row3_col4, #T_03818_row4_col0, #T_03818_row4_col1, #T_03818_row4_col2, #T_03818_row4_col3, #T_03818_row4_col4, #T_03818_row5_col0, #T_03818_row5_col1, #T_03818_row5_col2, #T_03818_row5_col3, #T_03818_row5_col4 {\n",
       "  text-align: right;\n",
       "}\n",
       "</style>\n",
       "<table id=\"T_03818\">\n",
       "  <thead>\n",
       "    <tr>\n",
       "      <th class=\"blank level0\" >&nbsp;</th>\n",
       "      <th id=\"T_03818_level0_col0\" class=\"col_heading level0 col0\" >2015총계</th>\n",
       "      <th id=\"T_03818_level0_col1\" class=\"col_heading level0 col1\" >2015-2016증감율</th>\n",
       "      <th id=\"T_03818_level0_col2\" class=\"col_heading level0 col2\" >2016총계</th>\n",
       "      <th id=\"T_03818_level0_col3\" class=\"col_heading level0 col3\" >2016-2017증감율</th>\n",
       "      <th id=\"T_03818_level0_col4\" class=\"col_heading level0 col4\" >2017총계</th>\n",
       "    </tr>\n",
       "    <tr>\n",
       "      <th class=\"index_name level0\" >관서명</th>\n",
       "      <th class=\"blank col0\" >&nbsp;</th>\n",
       "      <th class=\"blank col1\" >&nbsp;</th>\n",
       "      <th class=\"blank col2\" >&nbsp;</th>\n",
       "      <th class=\"blank col3\" >&nbsp;</th>\n",
       "      <th class=\"blank col4\" >&nbsp;</th>\n",
       "    </tr>\n",
       "  </thead>\n",
       "  <tbody>\n",
       "    <tr>\n",
       "      <th id=\"T_03818_level0_row0\" class=\"row_heading level0 row0\" >광주지방경찰청계</th>\n",
       "      <td id=\"T_03818_row0_col0\" class=\"data row0 col0\" >18830</td>\n",
       "      <td id=\"T_03818_row0_col1\" class=\"data row0 col1\" >-18.130643</td>\n",
       "      <td id=\"T_03818_row0_col2\" class=\"data row0 col2\" >15416</td>\n",
       "      <td id=\"T_03818_row0_col3\" class=\"data row0 col3\" >-9.516087</td>\n",
       "      <td id=\"T_03818_row0_col4\" class=\"data row0 col4\" >13949</td>\n",
       "    </tr>\n",
       "    <tr>\n",
       "      <th id=\"T_03818_level0_row1\" class=\"row_heading level0 row1\" >광주동부경찰서</th>\n",
       "      <td id=\"T_03818_row1_col0\" class=\"data row1 col0\" >2355</td>\n",
       "      <td id=\"T_03818_row1_col1\" class=\"data row1 col1\" >-12.186837</td>\n",
       "      <td id=\"T_03818_row1_col2\" class=\"data row1 col2\" >2068</td>\n",
       "      <td id=\"T_03818_row1_col3\" class=\"data row1 col3\" >-13.007737</td>\n",
       "      <td id=\"T_03818_row1_col4\" class=\"data row1 col4\" >1799</td>\n",
       "    </tr>\n",
       "    <tr>\n",
       "      <th id=\"T_03818_level0_row2\" class=\"row_heading level0 row2\" >광주서부경찰서</th>\n",
       "      <td id=\"T_03818_row2_col0\" class=\"data row2 col0\" >4720</td>\n",
       "      <td id=\"T_03818_row2_col1\" class=\"data row2 col1\" >-17.542373</td>\n",
       "      <td id=\"T_03818_row2_col2\" class=\"data row2 col2\" >3892</td>\n",
       "      <td id=\"T_03818_row2_col3\" class=\"data row2 col3\" >-6.526208</td>\n",
       "      <td id=\"T_03818_row2_col4\" class=\"data row2 col4\" >3638</td>\n",
       "    </tr>\n",
       "    <tr>\n",
       "      <th id=\"T_03818_level0_row3\" class=\"row_heading level0 row3\" >광주남부경찰서</th>\n",
       "      <td id=\"T_03818_row3_col0\" class=\"data row3 col0\" >2117</td>\n",
       "      <td id=\"T_03818_row3_col1\" class=\"data row3 col1\" >-11.903637</td>\n",
       "      <td id=\"T_03818_row3_col2\" class=\"data row3 col2\" >1865</td>\n",
       "      <td id=\"T_03818_row3_col3\" class=\"data row3 col3\" >-17.050938</td>\n",
       "      <td id=\"T_03818_row3_col4\" class=\"data row3 col4\" >1547</td>\n",
       "    </tr>\n",
       "    <tr>\n",
       "      <th id=\"T_03818_level0_row4\" class=\"row_heading level0 row4\" >광주북부경찰서</th>\n",
       "      <td id=\"T_03818_row4_col0\" class=\"data row4 col0\" >5466</td>\n",
       "      <td id=\"T_03818_row4_col1\" class=\"data row4 col1\" >-24.112697</td>\n",
       "      <td id=\"T_03818_row4_col2\" class=\"data row4 col2\" >4148</td>\n",
       "      <td id=\"T_03818_row4_col3\" class=\"data row4 col3\" >-4.893925</td>\n",
       "      <td id=\"T_03818_row4_col4\" class=\"data row4 col4\" >3945</td>\n",
       "    </tr>\n",
       "    <tr>\n",
       "      <th id=\"T_03818_level0_row5\" class=\"row_heading level0 row5\" >광주광산경찰서</th>\n",
       "      <td id=\"T_03818_row5_col0\" class=\"data row5 col0\" >4172</td>\n",
       "      <td id=\"T_03818_row5_col1\" class=\"data row5 col1\" >-17.473634</td>\n",
       "      <td id=\"T_03818_row5_col2\" class=\"data row5 col2\" >3443</td>\n",
       "      <td id=\"T_03818_row5_col3\" class=\"data row5 col3\" >-12.285797</td>\n",
       "      <td id=\"T_03818_row5_col4\" class=\"data row5 col4\" >3020</td>\n",
       "    </tr>\n",
       "  </tbody>\n",
       "</table>\n"
      ],
      "text/plain": [
       "<pandas.io.formats.style.Styler at 0x1f1f099fdf0>"
      ]
     },
     "execution_count": 85,
     "metadata": {},
     "output_type": "execute_result"
    }
   ],
   "source": [
    "dfStyler = resultDf1.style.set_properties(**{'text-align': 'right'})\n",
    "\n",
    "dfStyler.set_table_styles([dict(selector='th',\n",
    "                                props=[('text-align', 'right')])])"
   ]
  },
  {
   "cell_type": "code",
   "execution_count": null,
   "id": "a9ac498b",
   "metadata": {},
   "outputs": [],
   "source": []
  },
  {
   "cell_type": "code",
   "execution_count": null,
   "id": "9596778a",
   "metadata": {},
   "outputs": [],
   "source": []
  },
  {
   "cell_type": "code",
   "execution_count": null,
   "id": "e3b7fc15",
   "metadata": {},
   "outputs": [],
   "source": []
  },
  {
   "cell_type": "code",
   "execution_count": null,
   "id": "f7cdea10",
   "metadata": {},
   "outputs": [],
   "source": []
  },
  {
   "cell_type": "code",
   "execution_count": null,
   "id": "5d231bab",
   "metadata": {},
   "outputs": [],
   "source": []
  },
  {
   "cell_type": "code",
   "execution_count": null,
   "id": "e033986e",
   "metadata": {},
   "outputs": [],
   "source": []
  },
  {
   "cell_type": "code",
   "execution_count": null,
   "id": "f248abde",
   "metadata": {},
   "outputs": [],
   "source": []
  },
  {
   "cell_type": "code",
   "execution_count": null,
   "id": "72b6c653",
   "metadata": {},
   "outputs": [],
   "source": []
  },
  {
   "cell_type": "code",
   "execution_count": null,
   "id": "659e6c0e",
   "metadata": {},
   "outputs": [],
   "source": []
  },
  {
   "cell_type": "code",
   "execution_count": null,
   "id": "839e7de4",
   "metadata": {},
   "outputs": [],
   "source": []
  },
  {
   "cell_type": "code",
   "execution_count": null,
   "id": "6aa1aa29",
   "metadata": {},
   "outputs": [],
   "source": []
  },
  {
   "cell_type": "code",
   "execution_count": null,
   "id": "9af5b364",
   "metadata": {},
   "outputs": [],
   "source": []
  },
  {
   "cell_type": "code",
   "execution_count": null,
   "id": "4dbe0ee2",
   "metadata": {},
   "outputs": [],
   "source": []
  },
  {
   "cell_type": "code",
   "execution_count": null,
   "id": "2e4704dc",
   "metadata": {},
   "outputs": [],
   "source": []
  },
  {
   "cell_type": "code",
   "execution_count": null,
   "id": "4ea617d4",
   "metadata": {},
   "outputs": [],
   "source": []
  }
 ],
 "metadata": {
  "kernelspec": {
   "display_name": "Python 3 (ipykernel)",
   "language": "python",
   "name": "python3"
  },
  "language_info": {
   "codemirror_mode": {
    "name": "ipython",
    "version": 3
   },
   "file_extension": ".py",
   "mimetype": "text/x-python",
   "name": "python",
   "nbconvert_exporter": "python",
   "pygments_lexer": "ipython3",
   "version": "3.10.9"
  }
 },
 "nbformat": 4,
 "nbformat_minor": 5
}
